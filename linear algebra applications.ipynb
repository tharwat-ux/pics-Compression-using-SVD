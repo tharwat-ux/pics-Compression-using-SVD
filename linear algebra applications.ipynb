{
 "cells": [
  {
   "cell_type": "code",
   "execution_count": null,
   "id": "fa7493ee-b9f6-49f3-8c10-0313ce796b49",
   "metadata": {},
   "outputs": [],
   "source": []
  },
  {
   "cell_type": "code",
   "execution_count": 64,
   "id": "fcd731cc-5a18-42f7-867c-c1bd9d05627a",
   "metadata": {},
   "outputs": [],
   "source": [
    "def reconstruct_channel(compressed_channel):\n",
    "    reconstructed_channel = compressed_channel[\"U\"] @ np.diag(compressed_channel[\"S\"]) @ compressed_channel[\"Vt\"]\n",
    "    reconstructed_channel = np.clip(reconstructed_channel, 0, 255).astype(np.uint8)\n",
    "    return reconstructed_channel"
   ]
  },
  {
   "cell_type": "code",
   "execution_count": 65,
   "id": "578540f2-9f56-4a4e-a5b3-4c08d57165e8",
   "metadata": {},
   "outputs": [],
   "source": [
    "def reconstruct_image(compressed_image):\n",
    "    reconstructed_image=[]\n",
    "    for idx, value in enumerate(compressed_image,start=0):\n",
    "        reconstructed_image.append(reconstruct_channel(value))\n",
    "    if len(reconstructed_image) > 1:\n",
    "        return np.stack(reconstructed_image, axis=2)\n",
    "    else:\n",
    "        return reconstructed_image[0]"
   ]
  },
  {
   "cell_type": "code",
   "execution_count": 78,
   "id": "cd660c59-6572-40be-99c8-46eb904cdd96",
   "metadata": {},
   "outputs": [],
   "source": [
    "def compress_channel(channel , percent):\n",
    "    U,S,Vt = np.linalg.svd(channel , full_matrices=True)\n",
    "    explained_variance_ratio = (S**2) / np.sum(S**2)\n",
    "    cumulative = np.cumsum(explained_variance_ratio)\n",
    "    standardized_percent = np.clip((percent*(cumulative[-1]-cumulative[0]) + cumulative[0]), 0, 1)\n",
    "    k = np.argmax(cumulative >= standardized_percent) + 1\n",
    "    compressed_data = {\n",
    "        \"U\": U[:, :k],\n",
    "        \"S\": S[:k],\n",
    "        \"Vt\": Vt[:k, :],\n",
    "        \"k\": k,\n",
    "        \"cumulative\":cumulative,\n",
    "        \"percent\":percent\n",
    "    }\n",
    "    return compressed_data"
   ]
  },
  {
   "cell_type": "code",
   "execution_count": 67,
   "id": "4738ed10-98a8-41d4-8f53-8d23a8d827ab",
   "metadata": {},
   "outputs": [],
   "source": [
    "def compress_image(image,variance_percent):\n",
    "    compressed_image=[]\n",
    "    if len(image.shape) == 2:\n",
    "        compressed_image.append(compress_channel(image, variance_percent))\n",
    "    else:  # RGB\n",
    "        for i in range(0,image.shape[2]):\n",
    "            compressed_channel=compress_channel(image[:, :, i], variance_percent)\n",
    "            compressed_image.append(compressed_channel)\n",
    "        \n",
    "    return compressed_image"
   ]
  },
  {
   "cell_type": "code",
   "execution_count": null,
   "id": "b393cc65-9a80-424e-aef6-6b442fcfa7d6",
   "metadata": {},
   "outputs": [],
   "source": []
  },
  {
   "cell_type": "code",
   "execution_count": null,
   "id": "43494c03-afa4-480a-91bf-ae5b4079f4a4",
   "metadata": {},
   "outputs": [],
   "source": []
  },
  {
   "cell_type": "code",
   "execution_count": null,
   "id": "f52f54c8-5168-4d62-ba02-9203a8fc7383",
   "metadata": {},
   "outputs": [],
   "source": []
  },
  {
   "cell_type": "code",
   "execution_count": null,
   "id": "42b86321-1e96-4daa-82d1-7d4951261d21",
   "metadata": {},
   "outputs": [],
   "source": []
  },
  {
   "cell_type": "code",
   "execution_count": null,
   "id": "738eae1e-c66e-48cf-b365-2dd066246d86",
   "metadata": {},
   "outputs": [],
   "source": []
  },
  {
   "cell_type": "code",
   "execution_count": null,
   "id": "8f2e6f6d-3f62-47ad-a41a-409ea68d0208",
   "metadata": {},
   "outputs": [],
   "source": []
  },
  {
   "cell_type": "code",
   "execution_count": null,
   "id": "31e9e99e-c4df-4cfa-a080-7124611e91f7",
   "metadata": {},
   "outputs": [],
   "source": []
  },
  {
   "cell_type": "code",
   "execution_count": 74,
   "id": "2abbfab2-359a-4601-b1b4-6655fd877d79",
   "metadata": {},
   "outputs": [
    {
     "name": "stdin",
     "output_type": "stream",
     "text": [
      "enter percent of pic preservence % 90\n"
     ]
    }
   ],
   "source": [
    "import numpy as np\n",
    "import cv2\n",
    "image = cv2.imread(r\"Data/messi.jpg\")\n",
    "precentage = input(\"enter percent of pic preservence %\") \n",
    "precentage=int(precentage)/100\n"
   ]
  },
  {
   "cell_type": "markdown",
   "id": "79fb4d61-07ec-4783-81a3-1928d98b408c",
   "metadata": {},
   "source": [
    "### compression"
   ]
  },
  {
   "cell_type": "code",
   "execution_count": 75,
   "id": "fb6a8312-31ae-4ff1-ac66-a0fb76417ac1",
   "metadata": {},
   "outputs": [
    {
     "name": "stdout",
     "output_type": "stream",
     "text": [
      "0.9543261042203866\n",
      "0.9358463660203149\n",
      "0.9771852602231705\n",
      "pic is compressed successfully with a percent of  72.94185446206673 % \n"
     ]
    }
   ],
   "source": [
    "stored_image = compress_image(image,precentage)\n",
    "space_after_compression = 0\n",
    "information_kept = 0\n",
    "ch_n=0\n",
    "for ch in stored_image:\n",
    "        space_after_compression+=ch[\"U\"].size+ch[\"S\"].size+ch[\"Vt\"].size\n",
    "space_ratio = (space_after_compression / image.size)*100\n",
    "print (\"pic is compressed successfully with a percent of \", 100-space_ratio,\"% \")"
   ]
  },
  {
   "cell_type": "markdown",
   "id": "9599729a-d831-4301-bea9-41e94a350806",
   "metadata": {},
   "source": [
    "### reconstruction"
   ]
  },
  {
   "cell_type": "code",
   "execution_count": 77,
   "id": "de92235a-59c4-4cf4-90ce-800377d096fb",
   "metadata": {},
   "outputs": [],
   "source": [
    "reconstructed_image=reconstruct_image(stored_image)\n",
    "cv2.imshow(\"Reconstructed image\",reconstructed_image)\n",
    "cv2.imshow(\"Original image\",image)\n",
    "\n",
    "cv2.waitKey(0) \n",
    "cv2.destroyAllWindows()"
   ]
  },
  {
   "cell_type": "code",
   "execution_count": null,
   "id": "6018d0fa-0888-4430-b7c4-5c61507b6a01",
   "metadata": {},
   "outputs": [],
   "source": []
  },
  {
   "cell_type": "code",
   "execution_count": null,
   "id": "95b1e6cb-6c04-4afc-baed-84440013689c",
   "metadata": {},
   "outputs": [],
   "source": []
  },
  {
   "cell_type": "code",
   "execution_count": null,
   "id": "a4fed92d-eb0c-49d6-bd47-d64ea05b1dbc",
   "metadata": {},
   "outputs": [],
   "source": []
  },
  {
   "cell_type": "code",
   "execution_count": null,
   "id": "5c3f7f85-43f0-4b67-b1ae-3ddb1f2fbfff",
   "metadata": {},
   "outputs": [],
   "source": []
  },
  {
   "cell_type": "code",
   "execution_count": null,
   "id": "71e23273-9b6a-489b-9265-d8539dccade4",
   "metadata": {},
   "outputs": [],
   "source": []
  },
  {
   "cell_type": "code",
   "execution_count": null,
   "id": "067acff5-d25c-4fdf-80dc-d0f8bc18eb23",
   "metadata": {},
   "outputs": [],
   "source": []
  },
  {
   "cell_type": "code",
   "execution_count": null,
   "id": "23d419dd-0489-49d5-9dea-74c847eaa1f7",
   "metadata": {},
   "outputs": [],
   "source": []
  },
  {
   "cell_type": "code",
   "execution_count": null,
   "id": "9835eab8-e77d-45cc-9c9f-affd8ba56907",
   "metadata": {},
   "outputs": [],
   "source": []
  }
 ],
 "metadata": {
  "kernelspec": {
   "display_name": "Python 3 (ipykernel)",
   "language": "python",
   "name": "python3"
  },
  "language_info": {
   "codemirror_mode": {
    "name": "ipython",
    "version": 3
   },
   "file_extension": ".py",
   "mimetype": "text/x-python",
   "name": "python",
   "nbconvert_exporter": "python",
   "pygments_lexer": "ipython3",
   "version": "3.12.7"
  }
 },
 "nbformat": 4,
 "nbformat_minor": 5
}
